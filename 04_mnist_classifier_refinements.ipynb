{
 "cells": [
  {
   "cell_type": "markdown",
   "metadata": {
    "colab_type": "text",
    "id": "DpII-qgno6EX"
   },
   "source": [
    "# Refinements - Improved MNIST Classifer\n",
    "\n",
    "Make Your First GAN With MindSpore, 2022"
   ]
  },
  {
   "cell_type": "code",
   "execution_count": 1,
   "metadata": {
    "colab": {},
    "colab_type": "code",
    "id": "7bkrfSHHAPUB"
   },
   "outputs": [],
   "source": [
    "# import libraries\n",
    "\n",
    "import mindspore\n",
    "import mindspore.nn as nn\n",
    "import mindspore.dataset as ds\n",
    "\n",
    "import pandas\n",
    "import numpy as np\n",
    "import matplotlib.pyplot as plt"
   ]
  },
  {
   "cell_type": "code",
   "execution_count": 2,
   "metadata": {},
   "outputs": [
    {
     "name": "stdout",
     "output_type": "stream",
     "text": [
      "MindSpore version is 1.6.1, running on Ascend.\n"
     ]
    }
   ],
   "source": [
    "print(f'MindSpore version is {mindspore.__version__}, running on {mindspore.context.get_context(\"device_target\")}.')"
   ]
  },
  {
   "cell_type": "markdown",
   "metadata": {
    "colab_type": "text",
    "id": "o91c-ALVmw0n"
   },
   "source": [
    "## DataSet Class"
   ]
  },
  {
   "cell_type": "code",
   "execution_count": 3,
   "metadata": {
    "colab": {},
    "colab_type": "code",
    "id": "VImRycohm3Ct"
   },
   "outputs": [],
   "source": [
    "# dataset class\n",
    "\n",
    "class MnistDataset:\n",
    "    \n",
    "    def __init__(self, csv_file):\n",
    "        self.data_df = pandas.read_csv(csv_file, header=None)\n",
    "        pass\n",
    "    \n",
    "    def __len__(self):\n",
    "        return len(self.data_df)\n",
    "    \n",
    "    def __getitem__(self, index):\n",
    "        # image target (label)\n",
    "        label = self.data_df.iloc[index,0]\n",
    "        target = np.zeros((10), np.float32)\n",
    "        target[label] = 1.0\n",
    "        \n",
    "        # image data, normalised from 0-255 to 0-1\n",
    "        image_values = np.array(self.data_df.iloc[index,1:].values, dtype=np.float32) / 255.0\n",
    "        \n",
    "        # return image data tensor and target tensor\n",
    "        return image_values, target\n",
    "    \n",
    "    def plot_image(self, index):\n",
    "        img = self.data_df.iloc[index,1:].values.reshape(28,28)\n",
    "        plt.title(\"label = \" + str(self.data_df.iloc[index,0]))\n",
    "        plt.imshow(img, interpolation='none', cmap='Blues')\n"
   ]
  },
  {
   "cell_type": "markdown",
   "metadata": {
    "colab_type": "text",
    "id": "AJ_E9wgYQybx"
   },
   "source": [
    "## Load Data"
   ]
  },
  {
   "cell_type": "code",
   "execution_count": 4,
   "metadata": {
    "colab": {},
    "colab_type": "code",
    "id": "wioFGZ4mKUqj"
   },
   "outputs": [],
   "source": [
    "mnist_dataset = MnistDataset('./dataset/mnist/mnist_train.csv')\n",
    "\n",
    "batch_size = 16\n",
    "train_dataset = ds.GeneratorDataset(mnist_dataset, column_names=['image', 'label']).batch(batch_size)"
   ]
  },
  {
   "cell_type": "code",
   "execution_count": 5,
   "metadata": {
    "colab": {
     "base_uri": "https://localhost:8080/",
     "height": 281
    },
    "colab_type": "code",
    "id": "Bnq2wNUhLZRg",
    "outputId": "7a48d3aa-1583-45aa-c686-59610b410eda"
   },
   "outputs": [
    {
     "data": {
      "image/png": "[encoded data removed]",
      "text/plain": [
       "<Figure size 432x288 with 1 Axes>"
      ]
     },
     "metadata": {
      "needs_background": "light"
     },
     "output_type": "display_data"
    }
   ],
   "source": [
    "# check data contains images\n",
    "\n",
    "mnist_dataset.plot_image(9)"
   ]
  },
  {
   "cell_type": "code",
   "execution_count": 6,
   "metadata": {
    "colab": {},
    "colab_type": "code",
    "id": "KG5Xf_6CQ6h7"
   },
   "outputs": [
    {
     "data": {
      "text/plain": [
       "(array([0.        , 0.        , 0.        , 0.        , 0.        ,\n",
       "        0.        , 0.        , 0.        , 0.        , 0.        ,\n",
       "        0.        , 0.        , 0.        , 0.        , 0.        ,\n",
       "        0.        , 0.        , 0.        , 0.        , 0.        ,\n",
       "        0.        , 0.        , 0.        , 0.        , 0.        ,\n",
       "        0.        , 0.        , 0.        , 0.        , 0.        ,\n",
       "        0.        , 0.        , 0.        , 0.        , 0.        ,\n",
       "        0.        , 0.        , 0.        , 0.        , 0.        ,\n",
       "        0.        , 0.        , 0.        , 0.        , 0.        ,\n",
       "        0.        , 0.        , 0.        , 0.        , 0.        ,\n",
       "        0.        , 0.        , 0.        , 0.        , 0.        ,\n",
       "        0.        , 0.        , 0.        , 0.        , 0.        ,\n",
       "        0.        , 0.        , 0.        , 0.        , 0.        ,\n",
       "        0.        , 0.        , 0.        , 0.        , 0.        ,\n",
       "        0.        , 0.        , 0.        , 0.        , 0.        ,\n",
       "        0.        , 0.        , 0.        , 0.        , 0.        ,\n",
       "        0.        , 0.        , 0.        , 0.        , 0.        ,\n",
       "        0.        , 0.        , 0.        , 0.        , 0.        ,\n",
       "        0.        , 0.        , 0.        , 0.        , 0.        ,\n",
       "        0.        , 0.        , 0.        , 0.        , 0.        ,\n",
       "        0.        , 0.        , 0.        , 0.        , 0.        ,\n",
       "        0.        , 0.        , 0.        , 0.        , 0.        ,\n",
       "        0.        , 0.        , 0.        , 0.        , 0.        ,\n",
       "        0.        , 0.        , 0.        , 0.        , 0.        ,\n",
       "        0.        , 0.        , 0.        , 0.        , 0.        ,\n",
       "        0.        , 0.        , 0.        , 0.        , 0.        ,\n",
       "        0.        , 0.        , 0.        , 0.        , 0.        ,\n",
       "        0.        , 0.        , 0.        , 0.        , 0.        ,\n",
       "        0.        , 0.        , 0.        , 0.        , 0.        ,\n",
       "        0.        , 0.        , 0.        , 0.        , 0.        ,\n",
       "        0.        , 0.        , 0.        , 0.        , 0.        ,\n",
       "        0.        , 0.        , 0.        , 0.        , 0.        ,\n",
       "        0.        , 0.        , 0.        , 0.        , 0.        ,\n",
       "        0.        , 0.        , 0.        , 0.        , 0.        ,\n",
       "        0.        , 0.        , 0.        , 0.        , 0.        ,\n",
       "        0.        , 0.        , 0.        , 0.        , 0.        ,\n",
       "        0.        , 0.00784314, 0.07058824, 0.18039216, 0.53333336,\n",
       "        0.53333336, 0.95686275, 1.        , 0.94509804, 0.40392157,\n",
       "        0.        , 0.        , 0.        , 0.        , 0.        ,\n",
       "        0.        , 0.        , 0.        , 0.        , 0.        ,\n",
       "        0.        , 0.        , 0.        , 0.        , 0.        ,\n",
       "        0.        , 0.        , 0.05882353, 0.36862746, 0.6392157 ,\n",
       "        0.99215686, 0.99215686, 0.99215686, 0.99215686, 0.93333334,\n",
       "        0.85490197, 0.8       , 0.13725491, 0.        , 0.        ,\n",
       "        0.        , 0.        , 0.        , 0.        , 0.        ,\n",
       "        0.        , 0.        , 0.        , 0.        , 0.        ,\n",
       "        0.        , 0.        , 0.        , 0.        , 0.        ,\n",
       "        0.5137255 , 0.99215686, 0.99215686, 0.99215686, 0.99215686,\n",
       "        0.92941177, 0.78431374, 0.22352941, 0.        , 0.        ,\n",
       "        0.        , 0.        , 0.        , 0.        , 0.        ,\n",
       "        0.        , 0.        , 0.        , 0.        , 0.        ,\n",
       "        0.        , 0.        , 0.        , 0.        , 0.        ,\n",
       "        0.        , 0.        , 0.60784316, 0.9647059 , 0.99215686,\n",
       "        0.96862745, 0.42352942, 0.25490198, 0.1764706 , 0.        ,\n",
       "        0.        , 0.        , 0.        , 0.        , 0.        ,\n",
       "        0.        , 0.        , 0.        , 0.        , 0.        ,\n",
       "        0.        , 0.        , 0.        , 0.        , 0.        ,\n",
       "        0.        , 0.        , 0.        , 0.        , 0.        ,\n",
       "        0.8117647 , 0.99215686, 0.99215686, 0.9019608 , 0.        ,\n",
       "        0.        , 0.        , 0.        , 0.        , 0.        ,\n",
       "        0.        , 0.        , 0.        , 0.        , 0.        ,\n",
       "        0.        , 0.        , 0.        , 0.        , 0.        ,\n",
       "        0.        , 0.        , 0.        , 0.        , 0.        ,\n",
       "        0.        , 0.        , 0.        , 0.6156863 , 0.99215686,\n",
       "        0.99215686, 0.49019608, 0.        , 0.        , 0.        ,\n",
       "        0.        , 0.        , 0.        , 0.        , 0.        ,\n",
       "        0.        , 0.        , 0.        , 0.        , 0.        ,\n",
       "        0.        , 0.        , 0.        , 0.        , 0.        ,\n",
       "        0.        , 0.        , 0.        , 0.        , 0.        ,\n",
       "        0.        , 0.34901962, 0.99215686, 0.98039216, 0.22352941,\n",
       "        0.        , 0.        , 0.        , 0.        , 0.        ,\n",
       "        0.        , 0.        , 0.        , 0.        , 0.        ,\n",
       "        0.        , 0.        , 0.        , 0.        , 0.        ,\n",
       "        0.        , 0.        , 0.        , 0.        , 0.        ,\n",
       "        0.        , 0.        , 0.        , 0.        , 0.34901962,\n",
       "        0.99215686, 0.96862745, 0.        , 0.        , 0.        ,\n",
       "        0.        , 0.        , 0.        , 0.        , 0.        ,\n",
       "        0.        , 0.        , 0.        , 0.        , 0.        ,\n",
       "        0.        , 0.        , 0.        , 0.        , 0.        ,\n",
       "        0.        , 0.        , 0.        , 0.        , 0.        ,\n",
       "        0.        , 0.        , 0.34901962, 0.99215686, 0.96862745,\n",
       "        0.        , 0.        , 0.        , 0.        , 0.        ,\n",
       "        0.        , 0.        , 0.        , 0.        , 0.        ,\n",
       "        0.        , 0.        , 0.        , 0.        , 0.        ,\n",
       "        0.        , 0.        , 0.        , 0.        , 0.        ,\n",
       "        0.        , 0.        , 0.        , 0.        , 0.        ,\n",
       "        0.34901962, 0.99215686, 0.96862745, 0.        , 0.        ,\n",
       "        0.        , 0.        , 0.        , 0.        , 0.        ,\n",
       "        0.        , 0.        , 0.        , 0.        , 0.        ,\n",
       "        0.        , 0.        , 0.        , 0.        , 0.        ,\n",
       "        0.        , 0.        , 0.        , 0.        , 0.        ,\n",
       "        0.        , 0.        , 0.        , 0.08235294, 0.90588236,\n",
       "        0.9764706 , 0.13333334, 0.        , 0.        , 0.        ,\n",
       "        0.        , 0.        , 0.        , 0.        , 0.        ,\n",
       "        0.        , 0.        , 0.        , 0.        , 0.        ,\n",
       "        0.        , 0.        , 0.        , 0.        , 0.        ,\n",
       "        0.        , 0.        , 0.        , 0.        , 0.        ,\n",
       "        0.        , 0.        , 0.88235295, 0.99215686, 0.90588236,\n",
       "        0.8352941 , 0.8352941 , 0.48235294, 0.0627451 , 0.        ,\n",
       "        0.        , 0.        , 0.        , 0.        , 0.        ,\n",
       "        0.        , 0.        , 0.        , 0.        , 0.        ,\n",
       "        0.        , 0.        , 0.        , 0.        , 0.        ,\n",
       "        0.        , 0.        , 0.        , 0.        , 0.        ,\n",
       "        0.6745098 , 0.99215686, 0.99215686, 0.99215686, 0.99215686,\n",
       "        0.99215686, 0.74509805, 0.24705882, 0.        , 0.        ,\n",
       "        0.        , 0.        , 0.        , 0.        , 0.        ,\n",
       "        0.        , 0.        , 0.        , 0.        , 0.        ,\n",
       "        0.        , 0.        , 0.        , 0.        , 0.        ,\n",
       "        0.        , 0.        , 0.        , 0.00784314, 0.45490196,\n",
       "        0.28235295, 0.4862745 , 0.81960785, 0.99215686, 0.99215686,\n",
       "        0.5529412 , 0.        , 0.        , 0.        , 0.        ,\n",
       "        0.        , 0.        , 0.        , 0.        , 0.        ,\n",
       "        0.        , 0.        , 0.        , 0.        , 0.        ,\n",
       "        0.        , 0.        , 0.        , 0.        , 0.        ,\n",
       "        0.        , 0.        , 0.        , 0.        , 0.        ,\n",
       "        0.09803922, 0.85882354, 0.99215686, 0.80784315, 0.01176471,\n",
       "        0.        , 0.        , 0.        , 0.        , 0.        ,\n",
       "        0.        , 0.        , 0.        , 0.        , 0.        ,\n",
       "        0.        , 0.        , 0.        , 0.        , 0.        ,\n",
       "        0.        , 0.        , 0.        , 0.        , 0.        ,\n",
       "        0.        , 0.        , 0.        , 0.        , 0.40784314,\n",
       "        0.9647059 , 0.99215686, 0.01960784, 0.        , 0.        ,\n",
       "        0.        , 0.        , 0.        , 0.        , 0.        ,\n",
       "        0.        , 0.        , 0.        , 0.        , 0.        ,\n",
       "        0.        , 0.        , 0.        , 0.        , 0.        ,\n",
       "        0.        , 0.        , 0.        , 0.        , 0.        ,\n",
       "        0.        , 0.        , 0.        , 0.8352941 , 0.99215686,\n",
       "        0.01960784, 0.        , 0.        , 0.        , 0.        ,\n",
       "        0.        , 0.        , 0.        , 0.        , 0.        ,\n",
       "        0.        , 0.        , 0.        , 0.        , 0.        ,\n",
       "        0.        , 0.        , 0.        , 0.        , 0.        ,\n",
       "        0.        , 0.        , 0.        , 0.        , 0.        ,\n",
       "        0.10196079, 0.8862745 , 0.99215686, 0.01960784, 0.        ,\n",
       "        0.        , 0.        , 0.        , 0.        , 0.        ,\n",
       "        0.        , 0.        , 0.        , 0.        , 0.        ,\n",
       "        0.        , 0.        , 0.        , 0.        , 0.        ,\n",
       "        0.        , 0.        , 0.        , 0.        , 0.        ,\n",
       "        0.        , 0.        , 0.        , 0.5176471 , 0.99215686,\n",
       "        0.81960785, 0.01176471, 0.        , 0.        , 0.        ,\n",
       "        0.        , 0.        , 0.        , 0.        , 0.        ,\n",
       "        0.        , 0.        , 0.        , 0.        , 0.        ,\n",
       "        0.        , 0.        , 0.        , 0.        , 0.        ,\n",
       "        0.        , 0.        , 0.        , 0.        , 0.        ,\n",
       "        0.        , 0.30588236, 0.99215686, 0.3372549 , 0.        ,\n",
       "        0.        , 0.        , 0.        , 0.        , 0.        ,\n",
       "        0.        , 0.        , 0.        , 0.        , 0.        ,\n",
       "        0.        , 0.        , 0.        , 0.        , 0.        ,\n",
       "        0.        , 0.        , 0.        , 0.        , 0.        ,\n",
       "        0.        , 0.        , 0.        , 0.        , 0.        ,\n",
       "        0.        , 0.        , 0.        , 0.        , 0.        ,\n",
       "        0.        , 0.        , 0.        , 0.        , 0.        ,\n",
       "        0.        , 0.        , 0.        , 0.        , 0.        ,\n",
       "        0.        , 0.        , 0.        , 0.        , 0.        ,\n",
       "        0.        , 0.        , 0.        , 0.        , 0.        ,\n",
       "        0.        , 0.        , 0.        , 0.        , 0.        ,\n",
       "        0.        , 0.        , 0.        , 0.        , 0.        ,\n",
       "        0.        , 0.        , 0.        , 0.        ], dtype=float32),\n",
       " array([0., 0., 0., 0., 0., 1., 0., 0., 0., 0.], dtype=float32))"
      ]
     },
     "execution_count": 6,
     "metadata": {},
     "output_type": "execute_result"
    }
   ],
   "source": [
    "# check Dataset class can be accessed by index, returns image values and target\n",
    "\n",
    "mnist_dataset[100]"
   ]
  },
  {
   "cell_type": "markdown",
   "metadata": {
    "colab_type": "text",
    "id": "R1VyK4VQpNYA"
   },
   "source": [
    "## Neural Network Class"
   ]
  },
  {
   "cell_type": "code",
   "execution_count": 7,
   "metadata": {
    "colab": {},
    "colab_type": "code",
    "id": "MrgKlTsRAfSk"
   },
   "outputs": [],
   "source": [
    "from datetime import datetime\n",
    "from mindspore.train.callback import Callback\n",
    "\n",
    "# classifier class\n",
    "\n",
    "class Classifier(nn.Cell):\n",
    "    \n",
    "    def __init__(self):\n",
    "        # initialise parent pytorch class\n",
    "        super().__init__()\n",
    "        \n",
    "        # define neural network layers\n",
    "        self.model = nn.SequentialCell(\n",
    "            nn.Dense(784, 200),\n",
    "            #nn.Sigmoid(),\n",
    "            nn.LeakyReLU(0.02),\n",
    "\n",
    "            nn.LayerNorm((200,)),\n",
    "            \n",
    "            nn.Dense(200, 10),\n",
    "            nn.Sigmoid()\n",
    "            #nn.LeakyReLU(0.02)\n",
    "        )\n",
    "        \n",
    "        # create loss function\n",
    "        self.loss_function = nn.BCELoss(reduction='mean')\n",
    "        #self.loss_function = nn.MSELoss()\n",
    "\n",
    "        # create optimizer\n",
    "        #self.optimizer = nn.SGD(self.model.trainable_params(), lr=0.01)\n",
    "        self.optimizer = nn.Adam(self.model.trainable_params())\n",
    "\n",
    "        self.model_train = mindspore.Model(self.model, loss_fn=self.loss_function, optimizer=self.optimizer)\n",
    "        \n",
    "        # accumulator for progress\n",
    "        self.progress = []\n",
    "    \n",
    "    def construct(self, inputs):\n",
    "        # simply run model\n",
    "        return self.model(inputs)\n",
    "\n",
    "    def train(self, epochs, dataset):\n",
    "        class LossCallback(Callback):\n",
    "            def __init__(self, progress):\n",
    "                super().__init__()\n",
    "                self.progress = progress\n",
    "\n",
    "            def epoch_begin(self, run_context):\n",
    "                cb_params = run_context.original_args()\n",
    "                print(f'{datetime.now()}： start epoch {cb_params.cur_epoch_num} of {epochs}:')\n",
    "            \n",
    "            def step_end(self, run_context):\n",
    "                cb_params = run_context.original_args()\n",
    "                step_num = cb_params.cur_step_num\n",
    "                if step_num % 10 == 0:\n",
    "                    loss = cb_params.net_outputs\n",
    "                    self.progress.append(loss.asnumpy())\n",
    "                if step_num % 500 == 0:\n",
    "                    print(f'{datetime.now()}: counter = {step_num}')\n",
    "\n",
    "        self.model_train.train(epochs, dataset, callbacks=[LossCallback(self.progress)], dataset_sink_mode=False)\n",
    "    \n",
    "    def plot_progress(self):\n",
    "        df = pandas.DataFrame(self.progress, columns=['loss'])\n",
    "        df.plot(ylim=(0, 1.0), figsize=(16,8), alpha=0.1, marker='.', grid=True, yticks=(0, 0.25, 0.5))\n"
   ]
  },
  {
   "cell_type": "markdown",
   "metadata": {
    "colab_type": "text",
    "id": "cwGBnd4xSLBL"
   },
   "source": [
    "## Train Neural Network"
   ]
  },
  {
   "cell_type": "code",
   "execution_count": 8,
   "metadata": {
    "colab": {
     "base_uri": "https://localhost:8080/",
     "height": 408
    },
    "colab_type": "code",
    "id": "VLS3pXEevWq9",
    "outputId": "ac48c12a-53bf-404c-9249-2b05bac6f758"
   },
   "outputs": [
    {
     "name": "stdout",
     "output_type": "stream",
     "text": [
      "2022-05-21 14:59:01.394927： start epoch 1 of 3:\n",
      "2022-05-21 14:59:24.355978: counter = 500\n",
      "2022-05-21 14:59:29.228760: counter = 1000\n",
      "2022-05-21 14:59:34.113127: counter = 1500\n",
      "2022-05-21 14:59:39.032247: counter = 2000\n",
      "2022-05-21 14:59:43.935840: counter = 2500\n",
      "2022-05-21 14:59:48.856597: counter = 3000\n",
      "2022-05-21 14:59:53.772946: counter = 3500\n",
      "2022-05-21 14:59:56.237741： start epoch 2 of 3:\n",
      "2022-05-21 14:59:58.699576: counter = 4000\n",
      "2022-05-21 15:00:03.635948: counter = 4500\n",
      "2022-05-21 15:00:08.549262: counter = 5000\n",
      "2022-05-21 15:00:13.456513: counter = 5500\n",
      "2022-05-21 15:00:18.337543: counter = 6000\n",
      "2022-05-21 15:00:23.268599: counter = 6500\n",
      "2022-05-21 15:00:28.185906: counter = 7000\n",
      "2022-05-21 15:00:33.216882: counter = 7500\n",
      "2022-05-21 15:00:33.219141： start epoch 3 of 3:\n",
      "2022-05-21 15:00:38.215610: counter = 8000\n",
      "2022-05-21 15:00:43.201587: counter = 8500\n",
      "2022-05-21 15:00:48.214188: counter = 9000\n",
      "2022-05-21 15:00:53.188263: counter = 9500\n",
      "2022-05-21 15:00:58.160680: counter = 10000\n",
      "2022-05-21 15:01:03.161697: counter = 10500\n",
      "2022-05-21 15:01:08.143954: counter = 11000\n",
      "CPU times: user 2min 12s, sys: 21.8 s, total: 2min 34s\n",
      "Wall time: 2min 9s\n"
     ]
    }
   ],
   "source": [
    "%%time \n",
    "# create neural network\n",
    "\n",
    "C = Classifier()\n",
    "\n",
    "# train network on MNIST data set\n",
    "\n",
    "epochs = 3\n",
    "\n",
    "C.train(epochs, train_dataset)\n"
   ]
  },
  {
   "cell_type": "code",
   "execution_count": 9,
   "metadata": {
    "colab": {
     "base_uri": "https://localhost:8080/",
     "height": 483
    },
    "colab_type": "code",
    "id": "G046xt9ySheM",
    "outputId": "aab9afea-6cd1-42c7-eace-eacf341e7093"
   },
   "outputs": [
    {
     "data": {
      "image/png": "[encoded data removed]",
      "text/plain": [
       "<Figure size 1152x576 with 1 Axes>"
      ]
     },
     "metadata": {
      "needs_background": "light"
     },
     "output_type": "display_data"
    }
   ],
   "source": [
    "# plot classifier error\n",
    "\n",
    "C.plot_progress()"
   ]
  },
  {
   "cell_type": "markdown",
   "metadata": {
    "colab_type": "text",
    "id": "Sv7R988-4pCv"
   },
   "source": [
    "## Classification Example"
   ]
  },
  {
   "cell_type": "code",
   "execution_count": 10,
   "metadata": {
    "colab": {},
    "colab_type": "code",
    "id": "Tfi78c5XTLD3"
   },
   "outputs": [],
   "source": [
    "# load MNIST test data\n",
    "\n",
    "mnist_test_dataset = MnistDataset('./dataset/mnist/mnist_test.csv')\n",
    "test_dataset = ds.GeneratorDataset(mnist_test_dataset, ['image', 'label']).batch(1)"
   ]
  },
  {
   "cell_type": "code",
   "execution_count": 11,
   "metadata": {
    "colab": {
     "base_uri": "https://localhost:8080/",
     "height": 281
    },
    "colab_type": "code",
    "id": "cdQCvzor-QWx",
    "outputId": "82b2cfe2-fcce-44f4-f7b2-2733f949a40a"
   },
   "outputs": [
    {
     "data": {
      "image/png": "[encoded data removed]",
      "text/plain": [
       "<Figure size 432x288 with 1 Axes>"
      ]
     },
     "metadata": {
      "needs_background": "light"
     },
     "output_type": "display_data"
    }
   ],
   "source": [
    "# pick a record\n",
    "record = 19\n",
    "\n",
    "# plot image and correct label\n",
    "mnist_test_dataset.plot_image(record)"
   ]
  },
  {
   "cell_type": "code",
   "execution_count": 12,
   "metadata": {
    "colab": {
     "base_uri": "https://localhost:8080/",
     "height": 283
    },
    "colab_type": "code",
    "id": "CqZmjoqs-iJH",
    "outputId": "edcd7b3c-6711-4cbd-96d6-2a8de8edf6bc"
   },
   "outputs": [
    {
     "data": {
      "text/plain": [
       "<AxesSubplot:>"
      ]
     },
     "execution_count": 12,
     "metadata": {},
     "output_type": "execute_result"
    },
    {
     "data": {
      "image/png": "[encoded data removed]",
      "text/plain": [
       "<Figure size 432x288 with 1 Axes>"
      ]
     },
     "metadata": {
      "needs_background": "light"
     },
     "output_type": "display_data"
    }
   ],
   "source": [
    "# visualise the answer given by the neural network\n",
    "\n",
    "image_data = mindspore.ops.ExpandDims()(mindspore.Tensor(mnist_test_dataset[record][0]), 0)\n",
    "\n",
    "# query from trained network\n",
    "output = C.construct(image_data)\n",
    "\n",
    "# plot output tensor\n",
    "pandas.DataFrame(output[0].asnumpy()).plot(kind='bar', legend=False, ylim=(0,1))"
   ]
  },
  {
   "cell_type": "markdown",
   "metadata": {
    "colab_type": "text",
    "id": "yYobxR3rMne7"
   },
   "source": [
    "## Classifier Performance"
   ]
  },
  {
   "cell_type": "code",
   "execution_count": 13,
   "metadata": {
    "colab": {
     "base_uri": "https://localhost:8080/",
     "height": 34
    },
    "colab_type": "code",
    "id": "dkcHXgffGcKn",
    "outputId": "599c3b64-7499-4e57-ccdb-2f3755bdaa77"
   },
   "outputs": [
    {
     "name": "stdout",
     "output_type": "stream",
     "text": [
      "9755 10000 0.9755\n"
     ]
    }
   ],
   "source": [
    "# test trained neural network on training data\n",
    "\n",
    "score = 0\n",
    "items = 0\n",
    "\n",
    "for image_data_tensor, target_tensor in test_dataset:\n",
    "    target = target_tensor[0].asnumpy()\n",
    "    answer = C.construct(image_data_tensor)[0].asnumpy()\n",
    "    if (answer.argmax() == target.argmax()):\n",
    "        score += 1\n",
    "    items += 1\n",
    "\n",
    "print(score, items, score/items)"
   ]
  }
 ],
 "metadata": {
  "colab": {
   "collapsed_sections": [],
   "name": "04_mnist_classifier_refinements.ipynb",
   "provenance": []
  },
  "kernelspec": {
   "display_name": "Python 3 (ipykernel)",
   "language": "python",
   "name": "python3"
  },
  "language_info": {
   "codemirror_mode": {
    "name": "ipython",
    "version": 3
   },
   "file_extension": ".py",
   "mimetype": "text/x-python",
   "name": "python",
   "nbconvert_exporter": "python",
   "pygments_lexer": "ipython3",
   "version": "3.7.5"
  }
 },
 "nbformat": 4,
 "nbformat_minor": 1
}
