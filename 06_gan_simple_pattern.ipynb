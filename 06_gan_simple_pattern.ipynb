{
 "cells": [
  {
   "cell_type": "markdown",
   "metadata": {
    "colab_type": "text",
    "id": "DpII-qgno6EX"
   },
   "source": [
    "# Simple 1010 Pattern\n",
    "\n",
    "Make Your First GAN With MindSpore, 2022"
   ]
  },
  {
   "cell_type": "code",
   "execution_count": 1,
   "metadata": {
    "colab": {},
    "colab_type": "code",
    "id": "7bkrfSHHAPUB"
   },
   "outputs": [],
   "source": [
    "# import libraries\n",
    "\n",
    "import mindspore\n",
    "import mindspore.nn as nn\n",
    "\n",
    "import pandas\n",
    "import matplotlib.pyplot as plt\n",
    "import random\n",
    "import numpy"
   ]
  },
  {
   "cell_type": "markdown",
   "metadata": {
    "colab_type": "text",
    "id": "o91c-ALVmw0n"
   },
   "source": [
    "## Data Functions"
   ]
  },
  {
   "cell_type": "code",
   "execution_count": 2,
   "metadata": {
    "colab": {},
    "colab_type": "code",
    "id": "hS9SJ5JI5rIW"
   },
   "outputs": [],
   "source": [
    "# function to generate real data\n",
    "\n",
    "def generate_real():\n",
    "    real_data = mindspore.Tensor(\n",
    "        [random.uniform(0.8, 1.0),\n",
    "         random.uniform(0.0, 0.2),\n",
    "         random.uniform(0.8, 1.0),\n",
    "         random.uniform(0.0, 0.2)], mindspore.float32)\n",
    "    return real_data"
   ]
  },
  {
   "cell_type": "code",
   "execution_count": 3,
   "metadata": {},
   "outputs": [
    {
     "data": {
      "text/plain": [
       "Tensor(shape=[4], dtype=Float32, value= [ 8.59873950e-01,  5.64498231e-02,  9.21470821e-01,  6.21404089e-02])"
      ]
     },
     "execution_count": 3,
     "metadata": {},
     "output_type": "execute_result"
    }
   ],
   "source": [
    "generate_real()"
   ]
  },
  {
   "cell_type": "code",
   "execution_count": 4,
   "metadata": {
    "colab": {},
    "colab_type": "code",
    "id": "px_g8nYPBD3A"
   },
   "outputs": [],
   "source": [
    "# function to generate uniform random data\n",
    "\n",
    "def generate_random(size):\n",
    "    random_data = mindspore.Tensor(numpy.random.rand(size), mindspore.float32)\n",
    "    return random_data"
   ]
  },
  {
   "cell_type": "code",
   "execution_count": 5,
   "metadata": {},
   "outputs": [
    {
     "data": {
      "text/plain": [
       "Tensor(shape=[4], dtype=Float32, value= [ 5.87776899e-01,  8.54252815e-01,  1.67392999e-01,  6.90094829e-01])"
      ]
     },
     "execution_count": 5,
     "metadata": {},
     "output_type": "execute_result"
    }
   ],
   "source": [
    "generate_random(4)"
   ]
  },
  {
   "cell_type": "markdown",
   "metadata": {
    "colab_type": "text",
    "id": "AJ_E9wgYQybx"
   },
   "source": [
    "## Discriminator Network"
   ]
  },
  {
   "cell_type": "code",
   "execution_count": 6,
   "metadata": {
    "colab": {},
    "colab_type": "code",
    "id": "MrgKlTsRAfSk"
   },
   "outputs": [],
   "source": [
    "# discriminator class\n",
    "\n",
    "class Discriminator(nn.Cell):\n",
    "    \n",
    "    def __init__(self):\n",
    "        # initialise parent cell class\n",
    "        super().__init__()\n",
    "        \n",
    "        # define neural network layers\n",
    "        self.model = nn.SequentialCell(\n",
    "            nn.Dense(4, 3),\n",
    "            nn.Sigmoid(),\n",
    "            nn.Dense(3, 1),\n",
    "            nn.Sigmoid()\n",
    "        )\n",
    "        \n",
    "        # create loss function\n",
    "        self.loss_function = nn.MSELoss()\n",
    "\n",
    "        # create optimizer, simple stochastic gradient descent\n",
    "        self.optimizer = nn.SGD(self.trainable_params(), learning_rate=0.05)\n",
    "        \n",
    "        self.model_with_loss = nn.WithLossCell(self.model, self.loss_function)\n",
    "        self.model_train = nn.TrainOneStepCell(self.model_with_loss, self.optimizer)\n",
    "\n",
    "        # counter and accumulator for progress\n",
    "        self.counter = 0;\n",
    "        self.progress = []\n",
    "\n",
    "    def construct(self, inputs):\n",
    "        if inputs.ndim == 1:\n",
    "            inputs = mindspore.ops.ExpandDims()(inputs, 0)\n",
    "            return self.model(inputs).squeeze(0)\n",
    "        else:    \n",
    "            return self.model(inputs)\n",
    "\n",
    "    def train(self, inputs, targets):\n",
    "        # train one step\n",
    "        loss = self.model_train(inputs, targets)\n",
    "\n",
    "        # increase counter and accumulate error every 10\n",
    "        self.counter += 1;\n",
    "        if (self.counter % 10 == 0):\n",
    "            self.progress.append(loss.asnumpy().item())\n",
    "        if (self.counter % 10000 == 0):\n",
    "            print(\"counter = \", self.counter)\n",
    "\n",
    "    def plot_progress(self):\n",
    "        df = pandas.DataFrame(self.progress, columns=['loss'])\n",
    "        df.plot(ylim=(0, 1.0), figsize=(16,8), alpha=0.1, marker='.', grid=True, yticks=(0, 0.25, 0.5))\n"
   ]
  },
  {
   "cell_type": "markdown",
   "metadata": {
    "colab_type": "text",
    "id": "IFajrD3xCgsb"
   },
   "source": [
    "## Test Discriminator"
   ]
  },
  {
   "cell_type": "code",
   "execution_count": 7,
   "metadata": {
    "colab": {
     "base_uri": "https://localhost:8080/",
     "height": 51
    },
    "colab_type": "code",
    "id": "AXgCZ9DiCl3A",
    "outputId": "d055f70a-380c-46b8-97a8-1c12bdc817ca"
   },
   "outputs": [
    {
     "name": "stdout",
     "output_type": "stream",
     "text": [
      "counter =  10000\n",
      "counter =  20000\n"
     ]
    }
   ],
   "source": [
    "# test discriminator can separate real data from random noise\n",
    "\n",
    "D = Discriminator()\n",
    "\n",
    "for i in range(10000):\n",
    "    # real data\n",
    "    D.train(generate_real().reshape(1, -1), mindspore.Tensor([[1.0]], mindspore.float32))\n",
    "    # fake data\n",
    "    D.train(generate_random(4).reshape(1, -1), mindspore.Tensor([[0.0]], mindspore.float32))\n"
   ]
  },
  {
   "cell_type": "code",
   "execution_count": 8,
   "metadata": {
    "colab": {
     "base_uri": "https://localhost:8080/",
     "height": 483
    },
    "colab_type": "code",
    "id": "aBh8AGJFDhcU",
    "outputId": "71b31b63-fa20-498f-b73d-f7cc4f032f38"
   },
   "outputs": [
    {
     "data": {
      "image/png": "[encoded data removed]",
      "text/plain": [
       "<Figure size 1152x576 with 1 Axes>"
      ]
     },
     "metadata": {
      "needs_background": "light"
     },
     "output_type": "display_data"
    }
   ],
   "source": [
    "# plot discriminator loss\n",
    "\n",
    "D.plot_progress()"
   ]
  },
  {
   "cell_type": "code",
   "execution_count": 9,
   "metadata": {
    "colab": {
     "base_uri": "https://localhost:8080/",
     "height": 51
    },
    "colab_type": "code",
    "id": "MUMJn6efDkH5",
    "outputId": "2219d02b-9152-4187-d8e9-17cf11c6ff7c"
   },
   "outputs": [
    {
     "name": "stdout",
     "output_type": "stream",
     "text": [
      "0.9316080808639526\n",
      "0.014704041182994843\n"
     ]
    }
   ],
   "source": [
    "# manually run discriminator to check it can tell real data from fake\n",
    "\n",
    "print( D.construct( generate_real() ).asnumpy().item() )\n",
    "print( D.construct( generate_random(4) ).asnumpy().item() )"
   ]
  },
  {
   "cell_type": "markdown",
   "metadata": {
    "colab_type": "text",
    "id": "SsE9-KrguowG"
   },
   "source": [
    "## Generator Network"
   ]
  },
  {
   "cell_type": "code",
   "execution_count": 10,
   "metadata": {
    "colab": {},
    "colab_type": "code",
    "id": "j-JwJlKDh_Ej"
   },
   "outputs": [],
   "source": [
    "# generator class\n",
    "\n",
    "class Generator(nn.Cell):\n",
    "    \n",
    "    def __init__(self, D_with_loss):\n",
    "        # initialise parent cell class\n",
    "        super().__init__()\n",
    "        \n",
    "        # define neural network layers\n",
    "        self.model = nn.SequentialCell(\n",
    "            nn.Dense(1, 3),\n",
    "            nn.Sigmoid(),\n",
    "            nn.Dense(3, 4),\n",
    "            nn.Sigmoid()\n",
    "        )\n",
    "\n",
    "        self.loss_fn = D_with_loss\n",
    "        \n",
    "        # create optimizer, simple stochastic gradient descent\n",
    "        self.optimizer = nn.SGD(self.trainable_params(), learning_rate=0.05)\n",
    "        \n",
    "        self.model_train = mindspore.build_train_network(self.model, self.optimizer, loss_fn=self.loss_fn)\n",
    "\n",
    "        # counter and accumulator for progress\n",
    "        self.counter = 0;\n",
    "        self.progress = []\n",
    "    \n",
    "    def construct(self, inputs):        \n",
    "        # simply run model\n",
    "        if inputs.ndim == 1:\n",
    "            inputs = mindspore.ops.ExpandDims()(inputs, 0)\n",
    "            return self.model(inputs).squeeze(0)\n",
    "        else:    \n",
    "            return self.model(inputs)\n",
    "\n",
    "    def train(self, inputs, targets):\n",
    "        # calculate error\n",
    "        loss = self.model_train(inputs, targets)\n",
    "\n",
    "        # increase counter and accumulate error every 10\n",
    "        self.counter += 1;\n",
    "        if (self.counter % 10 == 0):\n",
    "            self.progress.append(loss.asnumpy().item())\n",
    "    \n",
    "    def plot_progress(self):\n",
    "        df = pandas.DataFrame(self.progress, columns=['loss'])\n",
    "        df.plot(ylim=(0, 1.0), figsize=(16,8), alpha=0.1, marker='.', grid=True, yticks=(0, 0.25, 0.5))\n"
   ]
  },
  {
   "cell_type": "markdown",
   "metadata": {
    "colab_type": "text",
    "id": "SwjycPNXxF7G"
   },
   "source": [
    "## Test Generator Output"
   ]
  },
  {
   "cell_type": "code",
   "execution_count": 11,
   "metadata": {
    "colab": {
     "base_uri": "https://localhost:8080/",
     "height": 34
    },
    "colab_type": "code",
    "id": "84vbfjGRwodN",
    "outputId": "77578817-8fca-46d4-b0e6-96fba89db611"
   },
   "outputs": [
    {
     "data": {
      "text/plain": [
       "Tensor(shape=[4], dtype=Float32, value= [ 5.00697315e-01,  5.00057161e-01,  4.98958260e-01,  5.01136780e-01])"
      ]
     },
     "execution_count": 11,
     "metadata": {},
     "output_type": "execute_result"
    }
   ],
   "source": [
    "# check the generator output is of the right type and shape\n",
    "\n",
    "G = Generator(D.model_with_loss)\n",
    "\n",
    "G.construct(mindspore.Tensor([0.5], mindspore.float32))"
   ]
  },
  {
   "cell_type": "markdown",
   "metadata": {
    "colab_type": "text",
    "id": "5k9SRwIkxTLi"
   },
   "source": [
    "## Train GAN"
   ]
  },
  {
   "cell_type": "code",
   "execution_count": 12,
   "metadata": {
    "colab": {
     "base_uri": "https://localhost:8080/",
     "height": 85
    },
    "colab_type": "code",
    "id": "radA76P9xWr1",
    "outputId": "8b5b1470-58a3-4551-9763-faf62ba0d8a9"
   },
   "outputs": [
    {
     "name": "stdout",
     "output_type": "stream",
     "text": [
      "counter =  10000\n",
      "counter =  20000\n",
      "CPU times: user 36.7 s, sys: 13.4 s, total: 50.1 s\n",
      "Wall time: 40.1 s\n"
     ]
    }
   ],
   "source": [
    "%%time \n",
    "\n",
    "# create Discriminator and Generator\n",
    "\n",
    "D = Discriminator()\n",
    "G = Generator(D.model_with_loss)\n",
    "\n",
    "image_list = []\n",
    "\n",
    "# train Discriminator and Generator\n",
    "\n",
    "for i in range(10000):\n",
    "    # batch_size 1\n",
    "    input_seed = mindspore.Tensor([[0.5]], mindspore.float32)\n",
    "    label_true = mindspore.Tensor([[1.0]], mindspore.float32)\n",
    "    label_false = mindspore.Tensor([[0.0]], mindspore.float32)\n",
    "    \n",
    "    # train discriminator on true\n",
    "    D.train(generate_real().reshape(1, -1), label_true)\n",
    "    \n",
    "    # train discriminator on false\n",
    "    D.train(G.construct(input_seed), label_false)\n",
    "    \n",
    "    # train generator\n",
    "    G.train(input_seed, label_true)\n",
    "    \n",
    "    # add image to list every 1000\n",
    "    if (i % 1000 == 0):\n",
    "      image_list.append( G.construct(input_seed)[0].asnumpy() )\n"
   ]
  },
  {
   "cell_type": "code",
   "execution_count": 13,
   "metadata": {
    "colab": {
     "base_uri": "https://localhost:8080/",
     "height": 483
    },
    "colab_type": "code",
    "id": "WfGwR21QxYtV",
    "outputId": "1cbff4da-8f15-4306-e1c7-341f5e63200e"
   },
   "outputs": [
    {
     "data": {
      "image/png": "[encoded data removed]",
      "text/plain": [
       "<Figure size 1152x576 with 1 Axes>"
      ]
     },
     "metadata": {
      "needs_background": "light"
     },
     "output_type": "display_data"
    }
   ],
   "source": [
    "# plot discriminator error\n",
    "\n",
    "D.plot_progress()"
   ]
  },
  {
   "cell_type": "code",
   "execution_count": 14,
   "metadata": {
    "colab": {
     "base_uri": "https://localhost:8080/",
     "height": 483
    },
    "colab_type": "code",
    "id": "SIx0tJBixbGM",
    "outputId": "1c6f7723-bc0f-4a30-a599-38c3e36c696f"
   },
   "outputs": [
    {
     "data": {
      "image/png": "[encoded data removed]",
      "text/plain": [
       "<Figure size 1152x576 with 1 Axes>"
      ]
     },
     "metadata": {
      "needs_background": "light"
     },
     "output_type": "display_data"
    }
   ],
   "source": [
    "# plot generator error\n",
    "\n",
    "G.plot_progress()"
   ]
  },
  {
   "cell_type": "markdown",
   "metadata": {
    "colab_type": "text",
    "id": "vddYtD84xkmI"
   },
   "source": [
    "## Manually Run Generator"
   ]
  },
  {
   "cell_type": "code",
   "execution_count": 15,
   "metadata": {
    "colab": {
     "base_uri": "https://localhost:8080/",
     "height": 34
    },
    "colab_type": "code",
    "id": "mePLPy3Yxj9A",
    "outputId": "350aedcf-49c2-48bd-8e09-2bd2ebcaf844"
   },
   "outputs": [
    {
     "data": {
      "text/plain": [
       "Tensor(shape=[4], dtype=Float32, value= [ 9.69303131e-01,  2.38597877e-02,  9.69235599e-01,  2.38773953e-02])"
      ]
     },
     "execution_count": 15,
     "metadata": {},
     "output_type": "execute_result"
    }
   ],
   "source": [
    "# manually run generator to see it's outputs\n",
    "\n",
    "G.construct(mindspore.Tensor([0.5], mindspore.float32))"
   ]
  },
  {
   "cell_type": "markdown",
   "metadata": {
    "colab_type": "text",
    "id": "0gZ4BG6O53SZ"
   },
   "source": [
    "## Visualise Pattern During Training"
   ]
  },
  {
   "cell_type": "code",
   "execution_count": 16,
   "metadata": {
    "colab": {
     "base_uri": "https://localhost:8080/",
     "height": 426
    },
    "colab_type": "code",
    "id": "jxHrZmUyxm-z",
    "outputId": "678d51ca-14f5-4579-a24f-296314913284"
   },
   "outputs": [
    {
     "data": {
      "text/plain": [
       "<matplotlib.image.AxesImage at 0xffff21a6e890>"
      ]
     },
     "execution_count": 16,
     "metadata": {},
     "output_type": "execute_result"
    },
    {
     "data": {
      "image/png": "[encoded data removed]",
      "text/plain": [
       "<Figure size 1152x576 with 1 Axes>"
      ]
     },
     "metadata": {
      "needs_background": "light"
     },
     "output_type": "display_data"
    }
   ],
   "source": [
    "# plot images collected during training\n",
    "\n",
    "plt.figure(figsize = (16,8))\n",
    "\n",
    "plt.imshow(numpy.array(image_list).T, interpolation='none', cmap='Blues')"
   ]
  }
 ],
 "metadata": {
  "colab": {
   "collapsed_sections": [],
   "name": "06_gan_simple_pattern.ipynb",
   "provenance": []
  },
  "kernelspec": {
   "display_name": "Python 3 (ipykernel)",
   "language": "python",
   "name": "python3"
  },
  "language_info": {
   "codemirror_mode": {
    "name": "ipython",
    "version": 3
   },
   "file_extension": ".py",
   "mimetype": "text/x-python",
   "name": "python",
   "nbconvert_exporter": "python",
   "pygments_lexer": "ipython3",
   "version": "3.7.5"
  }
 },
 "nbformat": 4,
 "nbformat_minor": 1
}
