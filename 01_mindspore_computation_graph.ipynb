{
 "cells": [
  {
   "cell_type": "markdown",
   "metadata": {
    "colab_type": "text",
    "id": "DpII-qgno6EX"
   },
   "source": [
    "# MindSpore Basics - Computation Graph\n",
    "\n",
    "Make Your First GAN With MindSpore, 2022"
   ]
  },
  {
   "cell_type": "code",
   "execution_count": 1,
   "metadata": {
    "colab": {},
    "colab_type": "code",
    "id": "7bkrfSHHAPUB"
   },
   "outputs": [],
   "source": [
    "import mindspore\n",
    "import mindspore.nn as nn"
   ]
  },
  {
   "cell_type": "markdown",
   "metadata": {
    "colab_type": "text",
    "id": "R1VyK4VQpNYA"
   },
   "source": [
    "## Simple Computation Graph\n",
    "\n",
    "```\n",
    "  (x) --> (y) --> (z)\n",
    "```\n",
    "\n",
    "> y = x^2\n",
    ">\n",
    "> z = 2y + 3"
   ]
  },
  {
   "cell_type": "code",
   "execution_count": 2,
   "metadata": {
    "colab": {},
    "colab_type": "code",
    "id": "MrgKlTsRAfSk"
   },
   "outputs": [],
   "source": [
    "# set up simple graph relating x, y and z\n",
    "\n",
    "class Func1(nn.Cell):\n",
    "    def construct(self, x):\n",
    "        y = x * x\n",
    "        z = 2 * y + 3\n",
    "        return z\n",
    "\n",
    "func1 = Func1()"
   ]
  },
  {
   "cell_type": "code",
   "execution_count": 3,
   "metadata": {
    "colab": {},
    "colab_type": "code",
    "id": "TOhq_oKGXSOy"
   },
   "outputs": [],
   "source": [
    "# work out gradients\n",
    "\n",
    "# https://mindspore.cn/docs/api/zh-CN/r1.6/api_python/ops/mindspore.ops.GradOperation.html?highlight=gradoperation#mindspore.ops.GradOperation\n",
    "class GradNet(nn.Cell):\n",
    "    def __init__(self, func):\n",
    "        super().__init__()\n",
    "        self.func = func\n",
    "        self.grad_func = mindspore.ops.GradOperation()(self.func)\n",
    "    \n",
    "    def construct(self, x):\n",
    "        return self.grad_func(x)\n",
    "\n",
    "grad_net = GradNet(func1)"
   ]
  },
  {
   "cell_type": "code",
   "execution_count": 6,
   "metadata": {
    "colab": {
     "base_uri": "https://localhost:8080/",
     "height": 34
    },
    "colab_type": "code",
    "id": "qDduuF1v6B_D",
    "outputId": "960f2b3c-0dc3-4d10-950b-01eb82823b80"
   },
   "outputs": [
    {
     "data": {
      "text/plain": [
       "Tensor(shape=[], dtype=Float32, value= 14)"
      ]
     },
     "execution_count": 6,
     "metadata": {},
     "output_type": "execute_result"
    }
   ],
   "source": [
    "# what is gradient at x = 3.5\n",
    "\n",
    "x = mindspore.Tensor(3.5)\n",
    "\n",
    "grad_net(x)"
   ]
  },
  {
   "cell_type": "markdown",
   "metadata": {
    "colab_type": "text",
    "id": "I7QFFLTZ-N67"
   },
   "source": [
    "## Computation Graph With Multiple Links To A Node\n",
    "\n",
    "```\n",
    "\n",
    "  (a) --> (x)\n",
    "       \\ /     \\\n",
    "       .       (z)\n",
    "      / \\     /\n",
    "  (b) --> (y)\n",
    "\n",
    " \n",
    "  x = 2a + 3b\n",
    " \n",
    "  y = 5a^2 + 3b^3\n",
    " \n",
    "  z = 2x + 3y\n",
    "\n",
    "```"
   ]
  },
  {
   "cell_type": "code",
   "execution_count": 11,
   "metadata": {
    "colab": {},
    "colab_type": "code",
    "id": "3CUzpIXo-N69"
   },
   "outputs": [],
   "source": [
    "# set up simple graph relating x, y and z\n",
    "\n",
    "class Func2(nn.Cell):\n",
    "    def construct(self, a, b):\n",
    "        x = 2 * a + 3 * b\n",
    "        y = 5 * a * a + 3 * b * b * b\n",
    "        z = 2 * x + 3 * y\n",
    "        return z\n",
    "\n",
    "func2 = Func2()"
   ]
  },
  {
   "cell_type": "code",
   "execution_count": 13,
   "metadata": {
    "colab": {},
    "colab_type": "code",
    "id": "OJ5XB02x-N7A"
   },
   "outputs": [],
   "source": [
    "# work out gradients\n",
    "\n",
    "class GradNet2(nn.Cell):\n",
    "    def __init__(self, func):\n",
    "        super().__init__()\n",
    "        self.func = func\n",
    "        self.grad_func = mindspore.ops.GradOperation(get_all=True)(self.func)\n",
    "    \n",
    "    def construct(self, a, b):\n",
    "        return self.grad_func(a, b)\n",
    "\n",
    "grad_net2 = GradNet2(func2)"
   ]
  },
  {
   "cell_type": "code",
   "execution_count": 14,
   "metadata": {
    "colab": {
     "base_uri": "https://localhost:8080/",
     "height": 34
    },
    "colab_type": "code",
    "id": "xmq8iajv-N7C",
    "outputId": "804abbe1-cf8f-47eb-ea5d-bda2bef3b68f"
   },
   "outputs": [
    {
     "name": "stdout",
     "output_type": "stream",
     "text": [
      "Grad of a: 64.0. Grad of b: 33.0\n"
     ]
    }
   ],
   "source": [
    "# what is gradient at a = 2.0\n",
    "\n",
    "a = mindspore.Tensor(2.0)\n",
    "b = mindspore.Tensor(1.0)\n",
    "\n",
    "grad_a, grad_b = grad_net2(a, b)\n",
    "print(f'Grad of a: {grad_a}. Grad of b: {grad_b}')"
   ]
  },
  {
   "cell_type": "markdown",
   "metadata": {
    "colab_type": "text",
    "id": "ShtN80XgIh7g"
   },
   "source": [
    "## Manually check MindSpore Result\n",
    "\n",
    "\n",
    "```\n",
    "\n",
    "dz/da = dz/dx * dx/da + dz/dy * dy/da\n",
    "\n",
    "      = 2 * 2 + 3 * 10a\n",
    "\n",
    "      = 4  + 30a\n",
    "\n",
    "When a = 3.5, dz/da = 64  ... correct!\n",
    "\n",
    "```\n",
    "\n"
   ]
  },
  {
   "cell_type": "code",
   "execution_count": null,
   "metadata": {
    "colab": {},
    "colab_type": "code",
    "id": "VtD5lVckAJlg"
   },
   "outputs": [],
   "source": []
  }
 ],
 "metadata": {
  "colab": {
   "collapsed_sections": [],
   "name": "01_pytorch_computation_graph.ipynb",
   "provenance": []
  },
  "kernelspec": {
   "display_name": "Python 3 (ipykernel)",
   "language": "python",
   "name": "python3"
  },
  "language_info": {
   "codemirror_mode": {
    "name": "ipython",
    "version": 3
   },
   "file_extension": ".py",
   "mimetype": "text/x-python",
   "name": "python",
   "nbconvert_exporter": "python",
   "pygments_lexer": "ipython3",
   "version": "3.7.5"
  }
 },
 "nbformat": 4,
 "nbformat_minor": 1
}
