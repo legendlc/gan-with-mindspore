{
 "cells": [
  {
   "cell_type": "markdown",
   "metadata": {
    "colab_type": "text",
    "id": "DpII-qgno6EX"
   },
   "source": [
    "# MindSpore Basics  - Tensors, Differentiaton\n",
    "\n",
    "Make Your First GAN With [MindSpore(1.6.1)](https://mindspore.cn), 2022"
   ]
  },
  {
   "cell_type": "code",
   "execution_count": 1,
   "metadata": {
    "colab": {},
    "colab_type": "code",
    "id": "7bkrfSHHAPUB"
   },
   "outputs": [],
   "source": [
    "import mindspore"
   ]
  },
  {
   "cell_type": "markdown",
   "metadata": {
    "colab_type": "text",
    "id": "R1VyK4VQpNYA"
   },
   "source": [
    "## Normal python variables"
   ]
  },
  {
   "cell_type": "code",
   "execution_count": 2,
   "metadata": {
    "colab": {
     "base_uri": "https://localhost:8080/",
     "height": 34
    },
    "colab_type": "code",
    "id": "MrgKlTsRAfSk",
    "outputId": "17ba27ed-17ea-47db-a7f2-8db12349f941"
   },
   "outputs": [
    {
     "name": "stdout",
     "output_type": "stream",
     "text": [
      "3.5 14.25\n"
     ]
    }
   ],
   "source": [
    "# normal python variables\n",
    "\n",
    "x = 3.5\n",
    "\n",
    "y = x*x + 2\n",
    "\n",
    "print(x, y)"
   ]
  },
  {
   "cell_type": "markdown",
   "metadata": {
    "colab_type": "text",
    "id": "F4OTVK6hpSWN"
   },
   "source": [
    "## PyTorch Tensors"
   ]
  },
  {
   "cell_type": "code",
   "execution_count": 3,
   "metadata": {
    "colab": {
     "base_uri": "https://localhost:8080/",
     "height": 34
    },
    "colab_type": "code",
    "id": "rawHNyI0F_kE",
    "outputId": "ddbfaf4f-d7b5-4476-899c-94ab948fef10"
   },
   "outputs": [
    {
     "data": {
      "text/plain": [
       "Tensor(shape=[], dtype=Float32, value= 3.5)"
      ]
     },
     "execution_count": 3,
     "metadata": {},
     "output_type": "execute_result"
    }
   ],
   "source": [
    "# simple mindspore tensor\n",
    "\n",
    "x = mindspore.Tensor(3.5)\n",
    "x"
   ]
  },
  {
   "cell_type": "markdown",
   "metadata": {
    "colab_type": "text",
    "id": "9awP8pdcpYkS"
   },
   "source": [
    "## Simple Arithmetic"
   ]
  },
  {
   "cell_type": "code",
   "execution_count": 4,
   "metadata": {
    "colab": {
     "base_uri": "https://localhost:8080/",
     "height": 34
    },
    "colab_type": "code",
    "id": "lzBkNWmEM1Ti",
    "outputId": "e0ad1a73-06cc-419b-91b3-655ae47f3397"
   },
   "outputs": [
    {
     "data": {
      "text/plain": [
       "Tensor(shape=[], dtype=Float32, value= 6.5)"
      ]
     },
     "execution_count": 4,
     "metadata": {},
     "output_type": "execute_result"
    }
   ],
   "source": [
    "# simple arithmetic with tensors\n",
    "\n",
    "y = x + 3\n",
    "y"
   ]
  },
  {
   "cell_type": "markdown",
   "metadata": {
    "colab_type": "text",
    "id": "ljyzfEjGpf_X"
   },
   "source": [
    "## Functional Relationship Between Tensors"
   ]
  },
  {
   "cell_type": "code",
   "execution_count": 5,
   "metadata": {
    "colab": {
     "base_uri": "https://localhost:8080/",
     "height": 34
    },
    "colab_type": "code",
    "id": "aqiw-7N-WS_l",
    "outputId": "96eca481-708c-45ab-88b5-69e90c485ccb"
   },
   "outputs": [
    {
     "data": {
      "text/plain": [
       "Tensor(shape=[], dtype=Float32, value= 1.875)"
      ]
     },
     "execution_count": 5,
     "metadata": {},
     "output_type": "execute_result"
    }
   ],
   "source": [
    "# y is defined as a function of x\n",
    "\n",
    "class Func(mindspore.nn.Cell):\n",
    "    def construct(self, x):\n",
    "        y = (x-1) * (x-2) * (x-3)\n",
    "        return y\n",
    "\n",
    "func = Func()\n",
    "y = func(x)\n",
    "y"
   ]
  },
  {
   "cell_type": "markdown",
   "metadata": {
    "colab_type": "text",
    "id": "OomRR79kpj-W"
   },
   "source": [
    "## Automatic Differentiation and Gradient Calculation"
   ]
  },
  {
   "cell_type": "code",
   "execution_count": 6,
   "metadata": {
    "colab": {},
    "colab_type": "code",
    "id": "TOhq_oKGXSOy"
   },
   "outputs": [],
   "source": [
    "# make net used for calculating gradients\n",
    "\n",
    "class GradNet(mindspore.nn.Cell):\n",
    "    def __init__(self, func):\n",
    "        super(GradNet, self).__init__()\n",
    "        self.func = func\n",
    "        self.grad_func = mindspore.ops.GradOperation()(self.func)\n",
    "\n",
    "    def construct(self, x):\n",
    "        return self.grad_func(x)\n"
   ]
  },
  {
   "cell_type": "code",
   "execution_count": 7,
   "metadata": {
    "colab": {
     "base_uri": "https://localhost:8080/",
     "height": 34
    },
    "colab_type": "code",
    "id": "jnBUpoBLfKoI",
    "outputId": "ae54c18d-3f43-4104-950f-60a14e0f924b"
   },
   "outputs": [
    {
     "data": {
      "text/plain": [
       "Tensor(shape=[], dtype=Float32, value= 5.75)"
      ]
     },
     "execution_count": 7,
     "metadata": {},
     "output_type": "execute_result"
    }
   ],
   "source": [
    "# what is gradient at x = 3.5\n",
    "\n",
    "grad_net = GradNet(func)\n",
    "grad_net(x)"
   ]
  }
 ],
 "metadata": {
  "colab": {
   "collapsed_sections": [],
   "name": "00_pytorch_basics.ipynb",
   "provenance": []
  },
  "kernelspec": {
   "display_name": "Python 3 (ipykernel)",
   "language": "python",
   "name": "python3"
  },
  "language_info": {
   "codemirror_mode": {
    "name": "ipython",
    "version": 3
   },
   "file_extension": ".py",
   "mimetype": "text/x-python",
   "name": "python",
   "nbconvert_exporter": "python",
   "pygments_lexer": "ipython3",
   "version": "3.7.5"
  }
 },
 "nbformat": 4,
 "nbformat_minor": 1
}
